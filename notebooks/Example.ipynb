{
 "cells": [
  {
   "cell_type": "code",
   "execution_count": 4,
   "id": "e46b8eaf",
   "metadata": {},
   "outputs": [
    {
     "ename": "ModuleNotFoundError",
     "evalue": "No module named 'scipy'",
     "output_type": "error",
     "traceback": [
      "\u001b[1;31m---------------------------------------------------------------------------\u001b[0m",
      "\u001b[1;31mModuleNotFoundError\u001b[0m                       Traceback (most recent call last)",
      "Cell \u001b[1;32mIn[4], line 2\u001b[0m\n\u001b[0;32m      1\u001b[0m \u001b[38;5;28;01mimport\u001b[39;00m\u001b[38;5;250m \u001b[39m\u001b[38;5;21;01mnumpy\u001b[39;00m\u001b[38;5;250m \u001b[39m\u001b[38;5;28;01mas\u001b[39;00m\u001b[38;5;250m \u001b[39m\u001b[38;5;21;01mnp\u001b[39;00m\n\u001b[1;32m----> 2\u001b[0m \u001b[38;5;28;01mimport\u001b[39;00m\u001b[38;5;250m \u001b[39m\u001b[38;5;21;01mscipy\u001b[39;00m\u001b[38;5;21;01m.\u001b[39;00m\u001b[38;5;21;01msparse\u001b[39;00m\u001b[38;5;250m \u001b[39m\u001b[38;5;28;01mas\u001b[39;00m\u001b[38;5;250m \u001b[39m\u001b[38;5;21;01msp\u001b[39;00m\n\u001b[0;32m      3\u001b[0m \u001b[38;5;28;01mimport\u001b[39;00m\u001b[38;5;250m \u001b[39m\u001b[38;5;21;01mwaves\u001b[39;00m\n\u001b[0;32m      4\u001b[0m \u001b[38;5;28;01mimport\u001b[39;00m\u001b[38;5;250m \u001b[39m\u001b[38;5;21;01mmatplotlib\u001b[39;00m\u001b[38;5;21;01m.\u001b[39;00m\u001b[38;5;21;01mpyplot\u001b[39;00m\u001b[38;5;250m \u001b[39m\u001b[38;5;28;01mas\u001b[39;00m\u001b[38;5;250m \u001b[39m\u001b[38;5;21;01mplt\u001b[39;00m\n",
      "\u001b[1;31mModuleNotFoundError\u001b[0m: No module named 'scipy'"
     ]
    }
   ],
   "source": [
    "import numpy as np\n",
    "import scipy.sparse as sp\n",
    "import waves\n",
    "import matplotlib.pyplot as plt\n",
    "import skimage.io as io\n",
    "import scipy.ndimage.filters as filters\n",
    "import matplotlib.animation as animation"
   ]
  },
  {
   "cell_type": "code",
   "execution_count": null,
   "id": "980c89d4",
   "metadata": {},
   "outputs": [],
   "source": [
    "L = 1.0\n",
    "T = 2.0\n",
    "c = 1.0\n",
    "nt = 201 # dt = T/(nt-1)\n",
    "nx = 101 # dx = 2/(nx-1)\n",
    "\n",
    "# grid\n",
    "x = np.linspace(-1,1,nx)\n",
    "y = np.linspace(-1,1,nx)\n",
    "t = np.linspace(0,1,nt)\n",
    "xx,yy,tt = np.meshgrid(x,y,t)\n",
    "\n",
    "# velocity\n",
    "c = 1.0\n",
    "\n",
    "# source\n",
    "q = np.zeros((nx,nx,nt))\n",
    "image = io.imread('2689_1.png')\n",
    "q[35:65,35:65,0] = 1-image[::20,::20,0]/255\n",
    "q[35:65,35:65,1] = 1-image[::20,::20,0]/255\n",
    "\n",
    "# solve\n",
    "u = waves.solve(q,T/(nt-1), 2*L/(nx-1), c, T, L, n = 2)\n"
   ]
  },
  {
   "cell_type": "code",
   "execution_count": null,
   "id": "b21c0f1a",
   "metadata": {},
   "outputs": [],
   "source": [
    "# sample\n",
    "a = np.linspace(0,2*np.pi,101)\n",
    "xr = 0.9*np.cos(a[0:100])\n",
    "yr = 0.9*np.sin(a[0:100])\n",
    "P = waves.sample(x,xr,yr)\n",
    "\n",
    "d = P@u\n",
    "\n",
    "p = np.flip(P.T@d,1).copy()\n",
    "\n",
    "# back propagation\n",
    "v = waves.solve(p,T/(nt-1), 2*L/(nx-1), c, T, L, n = 2)"
   ]
  },
  {
   "cell_type": "code",
   "execution_count": null,
   "id": "82529358",
   "metadata": {},
   "outputs": [],
   "source": [
    "# plot\n",
    "u.resize((nx,nx,nt))\n",
    "\n",
    "plt.subplot(141)\n",
    "plt.imshow(u[:,:,2])\n",
    "\n",
    "plt.subplot(142)\n",
    "plt.imshow(u[:,:,51])\n",
    "\n",
    "plt.subplot(143)\n",
    "plt.imshow(u[:,:,101])\n",
    "\n",
    "plt.subplot(144)\n",
    "plt.imshow(u[:,:,151])"
   ]
  },
  {
   "cell_type": "code",
   "execution_count": null,
   "id": "b046252f",
   "metadata": {},
   "outputs": [],
   "source": [
    "# plot\n",
    "v.resize((nx,nx,nt))\n",
    "\n",
    "plt.subplot(141)\n",
    "plt.imshow(v[:,:,2])\n",
    "\n",
    "plt.subplot(142)\n",
    "plt.imshow(v[:,:,51])\n",
    "\n",
    "plt.subplot(143)\n",
    "plt.imshow(v[:,:,101])\n",
    "\n",
    "plt.subplot(144)\n",
    "plt.imshow(v[:,:,200])"
   ]
  }
 ],
 "metadata": {
  "kernelspec": {
   "display_name": ".venv",
   "language": "python",
   "name": "python3"
  },
  "language_info": {
   "codemirror_mode": {
    "name": "ipython",
    "version": 3
   },
   "file_extension": ".py",
   "mimetype": "text/x-python",
   "name": "python",
   "nbconvert_exporter": "python",
   "pygments_lexer": "ipython3",
   "version": "3.10.11"
  }
 },
 "nbformat": 4,
 "nbformat_minor": 5
}
