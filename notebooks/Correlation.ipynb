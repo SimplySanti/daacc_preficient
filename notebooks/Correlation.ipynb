{
 "cells": [
  {
   "cell_type": "markdown",
   "id": "e7918f3c",
   "metadata": {},
   "source": [
    "# Correlación entre contaminantes y variables ambientales"
   ]
  }
 ],
 "metadata": {
  "language_info": {
   "name": "python"
  }
 },
 "nbformat": 4,
 "nbformat_minor": 5
}
